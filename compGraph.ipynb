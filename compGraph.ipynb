{
 "cells": [
  {
   "cell_type": "markdown",
   "id": "e75f7f61008277e8",
   "metadata": {
    "collapsed": false
   },
   "source": [
    "# Комплект 2: Задачи для самостоятельной работы.\n",
    "## 2.1"
   ]
  },
  {
   "cell_type": "code",
   "execution_count": 2,
   "id": "bd9461650eaede86",
   "metadata": {
    "collapsed": false,
    "ExecuteTime": {
     "end_time": "2023-10-04T16:02:46.999760700Z",
     "start_time": "2023-10-04T16:02:46.856673400Z"
    }
   },
   "outputs": [],
   "source": [
    "import numpy as np"
   ]
  },
  {
   "cell_type": "markdown",
   "id": "cf086ae2da144a0b",
   "metadata": {
    "collapsed": false
   },
   "source": [
    "Ввод точек:"
   ]
  },
  {
   "cell_type": "code",
   "execution_count": 3,
   "id": "d80e73e7fa87d66b",
   "metadata": {
    "collapsed": false,
    "ExecuteTime": {
     "end_time": "2023-10-04T16:02:49.479552200Z",
     "start_time": "2023-10-04T16:02:46.999760700Z"
    }
   },
   "outputs": [],
   "source": [
    "x = float(input(\"Введите x-координату точки: \"))\n",
    "y = float(input(\"Введите y-координату точки: \"))"
   ]
  },
  {
   "cell_type": "markdown",
   "id": "eef47319a1cf93e5",
   "metadata": {
    "collapsed": false
   },
   "source": [
    "Создание матрицы преобзразования:"
   ]
  },
  {
   "cell_type": "code",
   "execution_count": 4,
   "id": "8d2f5c43-4571-4aa0-aa77-f028b892b01c",
   "metadata": {
    "ExecuteTime": {
     "end_time": "2023-10-04T16:02:49.482447300Z",
     "start_time": "2023-10-04T16:02:49.468687200Z"
    }
   },
   "outputs": [],
   "source": [
    "T = np.array([[1, 3], [4, 1]])"
   ]
  },
  {
   "cell_type": "markdown",
   "id": "cd4ea720bc79663b",
   "metadata": {
    "collapsed": false
   },
   "source": [
    "Преобразование точки:"
   ]
  },
  {
   "cell_type": "code",
   "execution_count": 5,
   "id": "2915ce22390d333f",
   "metadata": {
    "collapsed": false,
    "ExecuteTime": {
     "end_time": "2023-10-04T16:02:49.482955200Z",
     "start_time": "2023-10-04T16:02:49.475543700Z"
    }
   },
   "outputs": [],
   "source": [
    "point = np.array([x, y])\n",
    "new_point = np.dot(T, point)"
   ]
  },
  {
   "cell_type": "markdown",
   "id": "b7f18f2eabe1487b",
   "metadata": {
    "collapsed": false
   },
   "source": [
    "Вывод точек и матрицы преобразования:"
   ]
  },
  {
   "cell_type": "code",
   "execution_count": 6,
   "id": "4451b79ea2c3ddf3",
   "metadata": {
    "collapsed": false,
    "ExecuteTime": {
     "end_time": "2023-10-04T16:02:49.482955200Z",
     "start_time": "2023-10-04T16:02:49.479552200Z"
    }
   },
   "outputs": [
    {
     "name": "stdout",
     "output_type": "stream",
     "text": [
      "Матрица T:\n",
      "[1 3]\n",
      "[4 1]\n",
      "\n",
      "Исходная точка:\n",
      "[4.0, 6.0]\n",
      "\n",
      "Новая точка после применения T:\n",
      "[22.0, 22.0]\n"
     ]
    }
   ],
   "source": [
    "print(\"Матрица T:\")\n",
    "for row in T:\n",
    "    print(row)\n",
    "\n",
    "print(\"\\nИсходная точка:\")\n",
    "print(point.tolist())\n",
    "\n",
    "print(\"\\nНовая точка после применения T:\")\n",
    "print(new_point.tolist())"
   ]
  },
  {
   "cell_type": "markdown",
   "id": "9d095c6258d2025c",
   "metadata": {
    "collapsed": false
   },
   "source": [
    "## 2.2"
   ]
  },
  {
   "cell_type": "markdown",
   "id": "4c047a0f7a7977aa",
   "metadata": {
    "collapsed": false
   },
   "source": [
    "Создание сцены и примитивов:"
   ]
  },
  {
   "cell_type": "code",
   "execution_count": 7,
   "id": "c10b3d414c2724c6",
   "metadata": {
    "collapsed": false,
    "ExecuteTime": {
     "end_time": "2023-10-04T16:02:50.049907300Z",
     "start_time": "2023-10-04T16:02:49.482955200Z"
    }
   },
   "outputs": [
    {
     "name": "stdout",
     "output_type": "stream",
     "text": [
      "pygame 2.5.2 (SDL 2.28.3, Python 3.11.5)\n",
      "Hello from the pygame community. https://www.pygame.org/contribute.html\n"
     ]
    },
    {
     "data": {
      "text/plain": "<rect(20, 250, 341, 26)>"
     },
     "execution_count": 7,
     "metadata": {},
     "output_type": "execute_result"
    }
   ],
   "source": [
    "import pygame\n",
    "\n",
    "pygame.init()\n",
    "\n",
    "window_width = 400\n",
    "window_height = 300\n",
    "\n",
    "screen = pygame.Surface((window_width, window_height))\n",
    "screen.fill((255, 255, 255))\n",
    "\n",
    "# красный круг\n",
    "pygame.draw.circle(screen, (255, 0, 0), (100, 150), 50)\n",
    "\n",
    "# зеленая линия\n",
    "pygame.draw.line(screen, (0, 255, 0), (150, 50), (230, 230), 5)\n",
    "\n",
    "# синий круг\n",
    "pygame.draw.circle(screen, (0, 0, 255), (300, 150), 50)\n",
    "\n",
    "# текст\n",
    "font = pygame.font.Font(None, 36)\n",
    "text1 = font.render(\"Лёха был тут\", True, (0, 0, 0))\n",
    "text2 = font.render(\"Pygame и Jupyter не дружат\", True, (0, 0, 0))\n",
    "screen.blit(text1, (50, 10))\n",
    "screen.blit(text2, (20, 250))"
   ]
  },
  {
   "cell_type": "markdown",
   "id": "fd43b8efdf94322c",
   "metadata": {
    "collapsed": false
   },
   "source": [
    "Для отображения сцены в ячейке jupyter необходимы невероятные костыли. Поэтому я просто отображу картинку"
   ]
  },
  {
   "cell_type": "code",
   "execution_count": 8,
   "id": "11ed030507d5e544",
   "metadata": {
    "collapsed": false,
    "ExecuteTime": {
     "end_time": "2023-10-04T16:02:50.065192300Z",
     "start_time": "2023-10-04T16:02:50.048905800Z"
    }
   },
   "outputs": [
    {
     "data": {
      "image/png": "[encoded data removed]",
      "text/plain": "<IPython.core.display.Image object>"
     },
     "execution_count": 8,
     "metadata": {},
     "output_type": "execute_result"
    }
   ],
   "source": [
    "pygame.image.save(screen, \"pygame_image.png\")\n",
    "\n",
    "pygame.quit()\n",
    "\n",
    "from IPython.display import Image\n",
    "Image(filename='pygame_image.png')"
   ]
  },
  {
   "cell_type": "markdown",
   "source": [
    "## 2.3"
   ],
   "metadata": {
    "collapsed": false
   },
   "id": "f9999400d497edbe"
  },
  {
   "cell_type": "code",
   "execution_count": 12,
   "outputs": [
    {
     "data": {
      "image/png": "[encoded data removed]",
      "text/plain": "<IPython.core.display.Image object>"
     },
     "execution_count": 12,
     "metadata": {},
     "output_type": "execute_result"
    }
   ],
   "source": [
    "pygame.init()\n",
    "\n",
    "window_width = 600\n",
    "window_height = 400\n",
    "\n",
    "white = (255, 255, 255)\n",
    "red = (255, 0, 0)\n",
    "blue = (0, 0, 255)\n",
    "\n",
    "image = pygame.Surface((window_width, window_height))\n",
    "image.fill(white)\n",
    "\n",
    "x = float(input(\"Введите x-координату точки: \"))\n",
    "y = float(input(\"Введите y-координату точки: \"))\n",
    "\n",
    "T = np.array([[1, 3], [4, 1]])\n",
    "\n",
    "point = np.array([x, y])\n",
    "new_point = np.dot(T, point)\n",
    "\n",
    "font = pygame.font.Font(None, 20)\n",
    "\n",
    "# Отрисовка изначальной точки (круг и координаты)\n",
    "pygame.draw.circle(image, red, (int(point[0]), int(point[1])), 5)\n",
    "text1 = font.render(f\"({point[0]:.2f}, {point[1]:.2f})\", True, red)\n",
    "image.blit(text1, (point[0] + 10, point[1] - 10))\n",
    "\n",
    "# Отрисовка новой точки (круг и координаты)\n",
    "pygame.draw.circle(image, blue, (int(new_point[0]), int(new_point[1])), 5)\n",
    "text2 = font.render(f\"({new_point[0]:.2f}, {new_point[1]:.2f})\", True, blue)\n",
    "image.blit(text2, (new_point[0] + 10, new_point[1] - 10))\n",
    "\n",
    "# Сохранение изображения в файл\n",
    "pygame.image.save(image, \"pygame_image.png\")\n",
    "\n",
    "# Отображение изображения\n",
    "from IPython.display import Image\n",
    "Image(filename='pygame_image.png')\n"
   ],
   "metadata": {
    "collapsed": false,
    "ExecuteTime": {
     "end_time": "2023-10-04T16:22:44.481654800Z",
     "start_time": "2023-10-04T16:22:41.285911100Z"
    }
   },
   "id": "48c006cd064a7f74"
  },
  {
   "cell_type": "markdown",
   "source": [
    "## 2.4"
   ],
   "metadata": {
    "collapsed": false
   },
   "id": "6f748797693edc4b"
  },
  {
   "cell_type": "code",
   "execution_count": 19,
   "outputs": [
    {
     "name": "stdout",
     "output_type": "stream",
     "text": [
      "Матрица линии:\n",
      "[50. 30.]\n",
      "[100.  60.]\n",
      "Матрица преобразования:\n",
      "[1 3]\n",
      "[4 1]\n",
      "Матрица новой линии:\n",
      "[350. 210.]\n",
      "[300. 180.]\n"
     ]
    },
    {
     "data": {
      "image/png": "[encoded data removed]",
      "text/plain": "<IPython.core.display.Image object>"
     },
     "execution_count": 19,
     "metadata": {},
     "output_type": "execute_result"
    }
   ],
   "source": [
    "pygame.init()\n",
    "\n",
    "window_width = 600\n",
    "window_height = 400\n",
    "\n",
    "white = (255, 255, 255)\n",
    "red = (255, 0, 0)\n",
    "blue = (0, 0, 255)\n",
    "\n",
    "image = pygame.Surface((window_width, window_height))\n",
    "image.fill(white)\n",
    "\n",
    "x1 = float(input(\"Введите x-координату первой точки: \"))\n",
    "y1 = float(input(\"Введите y-координату первой точки: \"))\n",
    "x2 = float(input(\"Введите x-координату второй точки: \"))\n",
    "y2 = float(input(\"Введите y-координату второй точки: \"))\n",
    "\n",
    "T = np.array([[1, 3], [4, 1]])\n",
    "\n",
    "# Создание матрицы координат для изначальной линии\n",
    "initial_line_matrix = np.column_stack((np.array([x1, y1]), np.array([x2, y2])))\n",
    "\n",
    "# Преобразование координат линии с помощью матрицы T\n",
    "new_line_matrix = np.dot(T, initial_line_matrix)\n",
    "\n",
    "def print_matrix_info(matrix, name):\n",
    "    print(f\"Матрица {name}:\")\n",
    "    for row in matrix:\n",
    "        print(row)\n",
    "\n",
    "print_matrix_info(initial_line_matrix, \"линии\")\n",
    "print_matrix_info(T, \"преобразования\")\n",
    "print_matrix_info(new_line_matrix, \"новой линии\")\n",
    "\n",
    "# Отрисовка изначальной линии (красной) и новой линии (синей)\n",
    "pygame.draw.line(image, red, (int(initial_line_matrix[0, 0]), int(initial_line_matrix[1, 0])),\n",
    "                 (int(initial_line_matrix[0, 1]), int(initial_line_matrix[1, 1])), 2)\n",
    "pygame.draw.line(image, blue, (int(new_line_matrix[0, 0]), int(new_line_matrix[1, 0])),\n",
    "                 (int(new_line_matrix[0, 1]), int(new_line_matrix[1, 1])), 2)\n",
    "\n",
    "def render_text(text, position, color):\n",
    "    font = pygame.font.Font(None, 20)\n",
    "    rendered_text = font.render(text, True, color)\n",
    "    image.blit(rendered_text, position)\n",
    "\n",
    "# Напечатать значения координат точек рядом с ними\n",
    "render_text(f\"({initial_line_matrix[0, 0]:.2f}, {initial_line_matrix[1, 0]:.2f})\", \n",
    "            (int(initial_line_matrix[0, 0]) + 10, int(initial_line_matrix[1, 0]) - 10), red)\n",
    "render_text(f\"({initial_line_matrix[0, 1]:.2f}, {initial_line_matrix[1, 1]:.2f})\", \n",
    "            (int(initial_line_matrix[0, 1]) + 10, int(initial_line_matrix[1, 1]) - 10), red)\n",
    "render_text(f\"({new_line_matrix[0, 0]:.2f}, {new_line_matrix[1, 0]:.2f})\", \n",
    "            (int(new_line_matrix[0, 0]) + 10, int(new_line_matrix[1, 0]) - 10), blue)\n",
    "render_text(f\"({new_line_matrix[0, 1]:.2f}, {new_line_matrix[1, 1]:.2f})\", \n",
    "            (int(new_line_matrix[0, 1]) + 10, int(new_line_matrix[1, 1]) - 10), blue)\n",
    "\n",
    "\n",
    "pygame.image.save(image, \"pygame_image.png\")\n",
    "\n",
    "from IPython.display import Image\n",
    "Image(filename='pygame_image.png')"
   ],
   "metadata": {
    "collapsed": false,
    "ExecuteTime": {
     "end_time": "2023-10-04T16:53:06.623356200Z",
     "start_time": "2023-10-04T16:52:47.841137Z"
    }
   },
   "id": "23f26e6553b94b09"
  },
  {
   "cell_type": "code",
   "execution_count": null,
   "outputs": [],
   "source": [],
   "metadata": {
    "collapsed": false
   },
   "id": "e8b9259ae013b7d2"
  }
 ],
 "metadata": {
  "kernelspec": {
   "display_name": "Python 3 (ipykernel)",
   "language": "python",
   "name": "python3"
  },
  "language_info": {
   "codemirror_mode": {
    "name": "ipython",
    "version": 3
   },
   "file_extension": ".py",
   "mimetype": "text/x-python",
   "name": "python",
   "nbconvert_exporter": "python",
   "pygments_lexer": "ipython3",
   "version": "3.11.5"
  }
 },
 "nbformat": 4,
 "nbformat_minor": 5
}
